{
  "cells": [
    {
      "cell_type": "code",
      "execution_count": null,
      "metadata": {
        "colab": {
          "base_uri": "https://localhost:8080/"
        },
        "id": "oR764xxvTkhU",
        "outputId": "7d042ee1-7d69-4c2c-8cf1-ffcc2e03030a"
      },
      "outputs": [],
      "source": [
        "# Step 1: Install YOLOv5 and dependencies\n",
        "!git clone https://github.com/ultralytics/yolov5.git\n",
        "%cd yolov5\n",
        "!pip install -r requirements.txt"
      ]
    },
    {
      "cell_type": "code",
      "execution_count": null,
      "metadata": {
        "id": "IohInV0mT2-j"
      },
      "outputs": [],
      "source": [
        "# Step 2: Import dependencies\n",
        "import torch\n",
        "from PIL import Image\n",
        "from IPython.display import display\n",
        "from google.colab import files"
      ]
    },
    {
      "cell_type": "code",
      "execution_count": null,
      "metadata": {
        "colab": {
          "background_save": true,
          "base_uri": "https://localhost:8080/",
          "height": 1000
        },
        "id": "QKBJ4eXETo3M",
        "outputId": "ea6b312a-045b-4729-aa98-9b1d7bab2d78"
      },
      "outputs": [],
      "source": [
        "# Step 3: Upload an image manually\n",
        "print(\"Please upload an image for object detection:\")\n",
        "uploaded = files.upload()\n",
        "\n",
        "# Get the uploaded image file name\n",
        "image_path = list(uploaded.keys())[0]\n",
        "\n",
        "# Step 4: Load the pre-trained YOLOv5 model (trained on COCO dataset)\n",
        "model = torch.hub.load(\"ultralytics/yolov5\", \"yolov5s\", pretrained=True)\n",
        "\n",
        "# Step 5: Run inference on the uploaded image\n",
        "results = model(image_path)\n",
        "\n",
        "# Step 6: Display the original image\n",
        "print(\"Original Image:\")\n",
        "display(Image.open(image_path))\n",
        "\n",
        "# Step 7: Show results (detected objects)\n",
        "results.show()\n",
        "\n",
        "# Step 8: Save and display the results image\n",
        "results.save()\n",
        "output_image_path = \"runs/detect/exp/\" + image_path  # YOLO saves output here\n",
        "print(\"\\nDetected Objects:\")\n",
        "display(Image.open(output_image_path))"
      ]
    }
  ],
  "metadata": {
    "accelerator": "GPU",
    "colab": {
      "gpuType": "T4",
      "provenance": []
    },
    "kernelspec": {
      "display_name": "Python 3",
      "name": "python3"
    },
    "language_info": {
      "name": "python"
    }
  },
  "nbformat": 4,
  "nbformat_minor": 0
}
